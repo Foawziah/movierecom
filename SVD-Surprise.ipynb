{
 "cells": [
  {
   "cell_type": "code",
   "execution_count": 1,
   "id": "370aca4c",
   "metadata": {},
   "outputs": [],
   "source": [
    "import pandas as pd\n",
    "import numpy as np\n",
    "from surprise import Reader\n",
    "from surprise import accuracy\n",
    "from sklearn.decomposition import NMF\n",
    "from surprise.prediction_algorithms.random_pred import NormalPredictor\n",
    "import seaborn as sns\n",
    "from surprise.model_selection.split import train_test_split\n",
    "from surprise import SVD\n",
    "from surprise import Dataset\n",
    "from surprise.model_selection import GridSearchCV\n",
    "from surprise import NormalPredictor\n",
    "from surprise import KNNBasic\n",
    "from surprise.model_selection import cross_validate\n",
    "import matplotlib.pyplot as plt"
   ]
  },
  {
   "cell_type": "code",
   "execution_count": 2,
   "id": "6e0db99d",
   "metadata": {},
   "outputs": [
    {
     "data": {
      "text/html": [
       "<div>\n",
       "<style scoped>\n",
       "    .dataframe tbody tr th:only-of-type {\n",
       "        vertical-align: middle;\n",
       "    }\n",
       "\n",
       "    .dataframe tbody tr th {\n",
       "        vertical-align: top;\n",
       "    }\n",
       "\n",
       "    .dataframe thead th {\n",
       "        text-align: right;\n",
       "    }\n",
       "</style>\n",
       "<table border=\"1\" class=\"dataframe\">\n",
       "  <thead>\n",
       "    <tr style=\"text-align: right;\">\n",
       "      <th></th>\n",
       "      <th>movieId</th>\n",
       "      <th>rating</th>\n",
       "      <th>timestamp</th>\n",
       "    </tr>\n",
       "    <tr>\n",
       "      <th>userId</th>\n",
       "      <th></th>\n",
       "      <th></th>\n",
       "      <th></th>\n",
       "    </tr>\n",
       "  </thead>\n",
       "  <tbody>\n",
       "    <tr>\n",
       "      <th>1</th>\n",
       "      <td>1</td>\n",
       "      <td>4.0</td>\n",
       "      <td>964982703</td>\n",
       "    </tr>\n",
       "    <tr>\n",
       "      <th>1</th>\n",
       "      <td>3</td>\n",
       "      <td>4.0</td>\n",
       "      <td>964981247</td>\n",
       "    </tr>\n",
       "    <tr>\n",
       "      <th>1</th>\n",
       "      <td>6</td>\n",
       "      <td>4.0</td>\n",
       "      <td>964982224</td>\n",
       "    </tr>\n",
       "    <tr>\n",
       "      <th>1</th>\n",
       "      <td>47</td>\n",
       "      <td>5.0</td>\n",
       "      <td>964983815</td>\n",
       "    </tr>\n",
       "    <tr>\n",
       "      <th>1</th>\n",
       "      <td>50</td>\n",
       "      <td>5.0</td>\n",
       "      <td>964982931</td>\n",
       "    </tr>\n",
       "    <tr>\n",
       "      <th>1</th>\n",
       "      <td>70</td>\n",
       "      <td>3.0</td>\n",
       "      <td>964982400</td>\n",
       "    </tr>\n",
       "    <tr>\n",
       "      <th>1</th>\n",
       "      <td>101</td>\n",
       "      <td>5.0</td>\n",
       "      <td>964980868</td>\n",
       "    </tr>\n",
       "    <tr>\n",
       "      <th>1</th>\n",
       "      <td>110</td>\n",
       "      <td>4.0</td>\n",
       "      <td>964982176</td>\n",
       "    </tr>\n",
       "    <tr>\n",
       "      <th>1</th>\n",
       "      <td>151</td>\n",
       "      <td>5.0</td>\n",
       "      <td>964984041</td>\n",
       "    </tr>\n",
       "    <tr>\n",
       "      <th>1</th>\n",
       "      <td>157</td>\n",
       "      <td>5.0</td>\n",
       "      <td>964984100</td>\n",
       "    </tr>\n",
       "  </tbody>\n",
       "</table>\n",
       "</div>"
      ],
      "text/plain": [
       "        movieId  rating  timestamp\n",
       "userId                            \n",
       "1             1     4.0  964982703\n",
       "1             3     4.0  964981247\n",
       "1             6     4.0  964982224\n",
       "1            47     5.0  964983815\n",
       "1            50     5.0  964982931\n",
       "1            70     3.0  964982400\n",
       "1           101     5.0  964980868\n",
       "1           110     4.0  964982176\n",
       "1           151     5.0  964984041\n",
       "1           157     5.0  964984100"
      ]
     },
     "execution_count": 2,
     "metadata": {},
     "output_type": "execute_result"
    }
   ],
   "source": [
    "movies = pd.read_csv(\"movies.csv\",index_col=0)\n",
    "ratings = pd.read_csv(\"ratings.csv\",index_col=0)\n",
    "\n",
    "# Reset the index to move movieId to a regular column\n",
    "movies = movies.reset_index()\n",
    "\n",
    "# Print the first 10 rows of the DataFrame to check the result\n",
    "ratings.head(10)"
   ]
  },
  {
   "cell_type": "code",
   "execution_count": 3,
   "id": "4cb13cec",
   "metadata": {},
   "outputs": [],
   "source": [
    "ratings = ratings.reset_index()\n"
   ]
  },
  {
   "cell_type": "code",
   "execution_count": 4,
   "id": "27d147c7",
   "metadata": {},
   "outputs": [
    {
     "name": "stdout",
     "output_type": "stream",
     "text": [
      "   movieId                               title  \\\n",
      "0        1                    Toy Story (1995)   \n",
      "1        2                      Jumanji (1995)   \n",
      "2        3             Grumpier Old Men (1995)   \n",
      "3        4            Waiting to Exhale (1995)   \n",
      "4        5  Father of the Bride Part II (1995)   \n",
      "5        6                         Heat (1995)   \n",
      "6        7                      Sabrina (1995)   \n",
      "7        8                 Tom and Huck (1995)   \n",
      "8        9                 Sudden Death (1995)   \n",
      "9       10                    GoldenEye (1995)   \n",
      "\n",
      "                                        genres  year  \n",
      "0  Adventure|Animation|Children|Comedy|Fantasy  1995  \n",
      "1                   Adventure|Children|Fantasy  1995  \n",
      "2                               Comedy|Romance  1995  \n",
      "3                         Comedy|Drama|Romance  1995  \n",
      "4                                       Comedy  1995  \n",
      "5                        Action|Crime|Thriller  1995  \n",
      "6                               Comedy|Romance  1995  \n",
      "7                           Adventure|Children  1995  \n",
      "8                                       Action  1995  \n",
      "9                    Action|Adventure|Thriller  1995  \n"
     ]
    }
   ],
   "source": [
    "\n",
    "# Extract the year from the title column using a regular expression\n",
    "movies['year'] = movies['title'].str.extract('\\((\\d{4})\\)', expand=False)\n",
    "\n",
    "# Print the first 10 rows of the DataFrame to check the result\n",
    "print(movies.head(10))"
   ]
  },
  {
   "cell_type": "markdown",
   "id": "0be4b9d6",
   "metadata": {},
   "source": [
    "## PreProcessing"
   ]
  },
  {
   "cell_type": "code",
   "execution_count": 5,
   "id": "14827df5",
   "metadata": {},
   "outputs": [],
   "source": [
    "min_ratings = 2 \n",
    "min_ratings_count =  5 \n",
    "# Delete movie rated under 2 \n",
    "# Delete movie rated less than 5 times\n",
    "movies = movies.groupby(\"movieId\").filter(lambda x: x['movieId'].count() >= min_ratings)\n",
    "ratings = ratings.groupby(\"userId\").filter(lambda x: x['userId'].count() >= min_ratings_count)\n"
   ]
  },
  {
   "cell_type": "code",
   "execution_count": 6,
   "id": "552df335",
   "metadata": {},
   "outputs": [
    {
     "data": {
      "text/plain": [
       "(100836, 4)"
      ]
     },
     "execution_count": 6,
     "metadata": {},
     "output_type": "execute_result"
    }
   ],
   "source": [
    "ratings.shape"
   ]
  },
  {
   "cell_type": "code",
   "execution_count": 7,
   "id": "a6a8ddd6",
   "metadata": {},
   "outputs": [
    {
     "data": {
      "text/plain": [
       "(0, 4)"
      ]
     },
     "execution_count": 7,
     "metadata": {},
     "output_type": "execute_result"
    }
   ],
   "source": [
    "movies.shape"
   ]
  },
  {
   "cell_type": "code",
   "execution_count": 8,
   "id": "6f3de949",
   "metadata": {},
   "outputs": [],
   "source": [
    "#!pip install scikit-surprise"
   ]
  },
  {
   "cell_type": "markdown",
   "id": "1eec5d8d",
   "metadata": {},
   "source": [
    "### Train on a whole trainset and the predict() method"
   ]
  },
  {
   "cell_type": "code",
   "execution_count": 9,
   "id": "2e4a3bd4",
   "metadata": {},
   "outputs": [],
   "source": [
    "reader = Reader(rating_scale=(0.5, 5)) #line_format by default order of the fields\n",
    "\n",
    "# Surprise Dataset Load method\n",
    "data = Dataset.load_from_df(ratings[[\"userId\",\"movieId\",\"rating\"]], reader=reader)\n",
    "\n",
    "trainset = data.build_full_trainset()\n",
    "\n",
    "testset = trainset.build_anti_testset()\n"
   ]
  },
  {
   "cell_type": "code",
   "execution_count": 10,
   "id": "e283dd77",
   "metadata": {},
   "outputs": [
    {
     "data": {
      "text/plain": [
       "<surprise.trainset.Trainset at 0x7fd48d931df0>"
      ]
     },
     "execution_count": 10,
     "metadata": {},
     "output_type": "execute_result"
    }
   ],
   "source": [
    "trainset"
   ]
  },
  {
   "cell_type": "markdown",
   "id": "deac777c",
   "metadata": {},
   "source": [
    "### Tune algorithm parameters with GridSearchCV\n",
    "I use the SVD algorithm from the Surprise library to make predictions on the MovieLens 100K dataset. I define a grid of hyperparameters to search over, and then use GridSearchCV to perform the search. GridSearchCV performs a 3-fold cross-validation for each combination of hyperparameters and computes the RMSE and MAE scores. Finally, it returns the best set of hyperparameters and the corresponding RMSE and MAE scores."
   ]
  },
  {
   "cell_type": "code",
   "execution_count": 11,
   "id": "0e9c5165",
   "metadata": {},
   "outputs": [],
   "source": [
    " ## checking the effect of number of latent factors k on the model's performance.\n",
    "def rmse_vs_factors(algorithm, data):\n",
    "    \"\"\"Returns: rmse_algorithm i.e. a list of mean RMSE of CV = 5 in cross_validate() for each  factor k in range(1, 101, 1) 100 values \n",
    "    Arg:  i.) algorithm = Matrix factoization algorithm, e.g SVD/NMF/PMF, ii.)  data = surprise.dataset.DatasetAutoFolds\n",
    "    \"\"\"\n",
    "    rmse_algorithm = []\n",
    "    \n",
    "    for k in range(1, 101, 1):\n",
    "        algo = algorithm(n_factors = k)\n",
    "\n",
    "        #[\"test_rmse\"] is a numpy array with min accuracy value for each testset\n",
    "        loss_fce = cross_validate(algo, data, measures=['RMSE'], cv=5, verbose=False)[\"test_rmse\"].mean() \n",
    "        rmse_algorithm.append(loss_fce)\n",
    "  \n",
    "    return rmse_algorithm\n"
   ]
  },
  {
   "cell_type": "code",
   "execution_count": 12,
   "id": "0e8130db",
   "metadata": {
    "scrolled": true
   },
   "outputs": [
    {
     "data": {
      "text/plain": [
       "[0.8692462999818144,\n",
       " 0.8700899631419183,\n",
       " 0.8697298200598984,\n",
       " 0.8698400468069704,\n",
       " 0.8691570179484485,\n",
       " 0.8697005444465147,\n",
       " 0.8703789455237075,\n",
       " 0.8698742020080988,\n",
       " 0.870160540287344,\n",
       " 0.869314784953718,\n",
       " 0.8693467507708865,\n",
       " 0.8688792715863372,\n",
       " 0.8690531724563471,\n",
       " 0.8696597006093043,\n",
       " 0.8703817614650863,\n",
       " 0.869289115644244,\n",
       " 0.8695199320620424,\n",
       " 0.8698689617570498,\n",
       " 0.870179003769873,\n",
       " 0.8695242752890644,\n",
       " 0.8699910110083353,\n",
       " 0.8682970067859092,\n",
       " 0.8698309685183829,\n",
       " 0.8708632391613488,\n",
       " 0.8704041682585778,\n",
       " 0.8704131218227367,\n",
       " 0.8692277112555111,\n",
       " 0.869972945959358,\n",
       " 0.8692373901009072,\n",
       " 0.8702536147666395,\n",
       " 0.8699292679631727,\n",
       " 0.869852905606366,\n",
       " 0.8703416703292384,\n",
       " 0.8708419469231371,\n",
       " 0.8701221800624991,\n",
       " 0.8707915696093277,\n",
       " 0.8695183063455156,\n",
       " 0.8712160518329398,\n",
       " 0.8707133470139189,\n",
       " 0.869717404361005,\n",
       " 0.8700588015487934,\n",
       " 0.8695707520187748,\n",
       " 0.869444731829763,\n",
       " 0.8706848461431091,\n",
       " 0.8720181575313802,\n",
       " 0.8704538152986,\n",
       " 0.870481226639615,\n",
       " 0.8703352771837718,\n",
       " 0.8705498349155125,\n",
       " 0.871267174917655,\n",
       " 0.8722275738692726,\n",
       " 0.8709726079915038,\n",
       " 0.8713808037693017,\n",
       " 0.87044545727604,\n",
       " 0.871055755515839,\n",
       " 0.8712931529812131,\n",
       " 0.8718358701297916,\n",
       " 0.8709013329714719,\n",
       " 0.8714917630540858,\n",
       " 0.8719547700350772,\n",
       " 0.8715459251605653,\n",
       " 0.873353392421581,\n",
       " 0.8723200473384566,\n",
       " 0.8718203305559047,\n",
       " 0.8709134033657975,\n",
       " 0.8721865445940606,\n",
       " 0.871700406355726,\n",
       " 0.8709468476963146,\n",
       " 0.8728290001492693,\n",
       " 0.8716802079119583,\n",
       " 0.8721235680434546,\n",
       " 0.8729186055729758,\n",
       " 0.8726022481624369,\n",
       " 0.8721818242715391,\n",
       " 0.8714109594200536,\n",
       " 0.8722394300123437,\n",
       " 0.8720225126124065,\n",
       " 0.873031762039391,\n",
       " 0.8731151866146989,\n",
       " 0.8720251574030231,\n",
       " 0.870570423982068,\n",
       " 0.8722767822738285,\n",
       " 0.8717555356576773,\n",
       " 0.8717378708770545,\n",
       " 0.8739903207970144,\n",
       " 0.8724988835068516,\n",
       " 0.8719781845548604,\n",
       " 0.8728462434406093,\n",
       " 0.8724374915956593,\n",
       " 0.8743014626958706,\n",
       " 0.8730674201206273,\n",
       " 0.8726753302311726,\n",
       " 0.8746922626094218,\n",
       " 0.8721227789527521,\n",
       " 0.8734361311310852,\n",
       " 0.8742116390808258,\n",
       " 0.8735427228676457,\n",
       " 0.8731151579205964,\n",
       " 0.8737476929905194,\n",
       " 0.8729050256959864]"
      ]
     },
     "execution_count": 12,
     "metadata": {},
     "output_type": "execute_result"
    }
   ],
   "source": [
    "rmse_svd = rmse_vs_factors(SVD,data)\n",
    "rmse_svd"
   ]
  },
  {
   "cell_type": "code",
   "execution_count": 13,
   "id": "44f2874c",
   "metadata": {},
   "outputs": [],
   "source": [
    "def plot_rmse(rmse, algorithm):\n",
    "    plt.figure(num=None, figsize=(11, 5), dpi=80, facecolor='w', edgecolor='k')\n",
    "        \n",
    "    plt.subplot(2,1,1)\n",
    "    plt.plot(rmse)\n",
    "    plt.xlim(0,100)\n",
    "    plt.title(\"{0} Performance: RMSE Against Number of Factors\".format(algorithm), size = 20 )\n",
    "    plt.ylabel(\"Mean RMSE (cv=5)\")\n",
    "\n",
    "    plt.subplot(2,1,2)\n",
    "    plt.plot(rmse)\n",
    "    plt.xlim(0,50)\n",
    "    plt.xticks(np.arange(0, 52, step=2))\n",
    "\n",
    "    plt.xlabel(\"{0}(n_factor = k)\".format(algorithm))\n",
    "    plt.ylabel(\"Mean RMSE (cv=5)\")\n",
    "    plt.axvline(np.argmin(rmse), color = \"b\")\n"
   ]
  },
  {
   "cell_type": "code",
   "execution_count": 14,
   "id": "b0989852",
   "metadata": {},
   "outputs": [
    {
     "data": {
      "image/png": "[encoded data removed]",
      "text/plain": [
       "<Figure size 880x400 with 2 Axes>"
      ]
     },
     "metadata": {},
     "output_type": "display_data"
    }
   ],
   "source": [
    "plot_rmse(rmse_svd,\"SVD\")"
   ]
  },
  {
   "cell_type": "code",
   "execution_count": 15,
   "id": "2e69575e",
   "metadata": {},
   "outputs": [],
   "source": [
    "from collections import defaultdict"
   ]
  },
  {
   "cell_type": "markdown",
   "id": "6784e435",
   "metadata": {},
   "source": [
    "### Predictions using function "
   ]
  },
  {
   "cell_type": "code",
   "execution_count": 16,
   "id": "61d3752e",
   "metadata": {},
   "outputs": [],
   "source": [
    "# Define the testset\n",
    "testset = data.build_full_trainset().build_testset()\n",
    "# Train the SVD model\n",
    "svd = SVD(n_factors=100, n_epochs=20, lr_all=0.005, reg_all=0.4)\n",
    "svd.fit(trainset)\n",
    "# Generate the predictions using the SVD model\n",
    "predictions = svd.test(testset)\n"
   ]
  },
  {
   "cell_type": "code",
   "execution_count": 17,
   "id": "b899f982",
   "metadata": {},
   "outputs": [],
   "source": [
    "def get_top_n(predictions, userId, movies, ratings, n = 10):\n",
    "    '''Return the top N (default) movieId for a user,.i.e. userID and history for comparisom\n",
    "    Args:\n",
    "    Returns: \n",
    "  \n",
    "    '''\n",
    "    \n",
    "    #First map the predictions to each user.\n",
    "    top_n = defaultdict(list)\n",
    "    for uid, iid, true_r, est, _ in predictions:\n",
    "        top_n[uid].append((iid, est))\n",
    "\n",
    "    #Then sort the predictions for each user and retrieve the k highest ones.\n",
    "    for uid, user_ratings in top_n.items():\n",
    "        user_ratings.sort(key = lambda x: x[1], reverse = True)\n",
    "        top_n[uid] = user_ratings[: n ]\n",
    "    \n",
    "    \n",
    "    #Tells how many movies the user has already rated\n",
    "    user_data = ratings[ratings.userId == (userId)]\n",
    "    print('User {0} has already rated {1} movies.'.format(userId, user_data.shape[0]))\n",
    "\n",
    "    \n",
    "    #4. Data Frame with predictions. \n",
    "    preds_df = pd.DataFrame([(id, pair[0],pair[1]) for id, row in top_n.items() for pair in row],\n",
    "                        columns=[\"userId\" ,\"movieId\",\"rat_pred\"])\n",
    "    \n",
    "    \n",
    "    #Return pred_usr, i.e. top N recommended movies with (merged) titles and genres. \n",
    "    pred_usr = preds_df[preds_df[\"userId\"] == (userId)].merge(movies, how = 'left', left_on = 'movieId', right_on = 'movieId')\n",
    "            \n",
    "    #Return hist_usr, i.e. top N historically rated movies with (merged) titles and genres for holistic evaluation\n",
    "    old_usr = ratings[ratings.userId == (userId) ].sort_values(\"rating\", ascending = False).merge\\\n",
    "    (movies, how = 'left', left_on = 'movieId', right_on = 'movieId')\n",
    "    \n",
    "    \n",
    "    return old_usr, pred_usr"
   ]
  },
  {
   "cell_type": "code",
   "execution_count": 18,
   "id": "a854588e",
   "metadata": {},
   "outputs": [
    {
     "name": "stdout",
     "output_type": "stream",
     "text": [
      "User 1 has already rated 232 movies.\n"
     ]
    }
   ],
   "source": [
    "old_SVD, pred_SVD = get_top_n(predictions, movies = movies, userId = 1, ratings = ratings)"
   ]
  },
  {
   "cell_type": "code",
   "execution_count": 19,
   "id": "a2eab9fa",
   "metadata": {},
   "outputs": [
    {
     "name": "stdout",
     "output_type": "stream",
     "text": [
      "User 1 has already rated 232 movies.\n"
     ]
    }
   ],
   "source": [
    "old_SVD, pred_SVD = get_top_n(predictions, movies=movies, userId=1, ratings=ratings)"
   ]
  },
  {
   "cell_type": "code",
   "execution_count": 20,
   "id": "810cb9fd",
   "metadata": {},
   "outputs": [
    {
     "data": {
      "text/html": [
       "<div>\n",
       "<style scoped>\n",
       "    .dataframe tbody tr th:only-of-type {\n",
       "        vertical-align: middle;\n",
       "    }\n",
       "\n",
       "    .dataframe tbody tr th {\n",
       "        vertical-align: top;\n",
       "    }\n",
       "\n",
       "    .dataframe thead th {\n",
       "        text-align: right;\n",
       "    }\n",
       "</style>\n",
       "<table border=\"1\" class=\"dataframe\">\n",
       "  <thead>\n",
       "    <tr style=\"text-align: right;\">\n",
       "      <th></th>\n",
       "      <th>userId</th>\n",
       "      <th>movieId</th>\n",
       "      <th>rating</th>\n",
       "      <th>timestamp</th>\n",
       "      <th>title</th>\n",
       "      <th>genres</th>\n",
       "      <th>year</th>\n",
       "    </tr>\n",
       "  </thead>\n",
       "  <tbody>\n",
       "    <tr>\n",
       "      <th>0</th>\n",
       "      <td>1</td>\n",
       "      <td>5060</td>\n",
       "      <td>5.0</td>\n",
       "      <td>964984002</td>\n",
       "      <td>NaN</td>\n",
       "      <td>NaN</td>\n",
       "      <td>NaN</td>\n",
       "    </tr>\n",
       "    <tr>\n",
       "      <th>1</th>\n",
       "      <td>1</td>\n",
       "      <td>2872</td>\n",
       "      <td>5.0</td>\n",
       "      <td>964981680</td>\n",
       "      <td>NaN</td>\n",
       "      <td>NaN</td>\n",
       "      <td>NaN</td>\n",
       "    </tr>\n",
       "    <tr>\n",
       "      <th>2</th>\n",
       "      <td>1</td>\n",
       "      <td>1291</td>\n",
       "      <td>5.0</td>\n",
       "      <td>964981909</td>\n",
       "      <td>NaN</td>\n",
       "      <td>NaN</td>\n",
       "      <td>NaN</td>\n",
       "    </tr>\n",
       "    <tr>\n",
       "      <th>3</th>\n",
       "      <td>1</td>\n",
       "      <td>1298</td>\n",
       "      <td>5.0</td>\n",
       "      <td>964984086</td>\n",
       "      <td>NaN</td>\n",
       "      <td>NaN</td>\n",
       "      <td>NaN</td>\n",
       "    </tr>\n",
       "    <tr>\n",
       "      <th>4</th>\n",
       "      <td>1</td>\n",
       "      <td>2948</td>\n",
       "      <td>5.0</td>\n",
       "      <td>964982191</td>\n",
       "      <td>NaN</td>\n",
       "      <td>NaN</td>\n",
       "      <td>NaN</td>\n",
       "    </tr>\n",
       "    <tr>\n",
       "      <th>5</th>\n",
       "      <td>1</td>\n",
       "      <td>2947</td>\n",
       "      <td>5.0</td>\n",
       "      <td>964982176</td>\n",
       "      <td>NaN</td>\n",
       "      <td>NaN</td>\n",
       "      <td>NaN</td>\n",
       "    </tr>\n",
       "    <tr>\n",
       "      <th>6</th>\n",
       "      <td>1</td>\n",
       "      <td>2944</td>\n",
       "      <td>5.0</td>\n",
       "      <td>964981872</td>\n",
       "      <td>NaN</td>\n",
       "      <td>NaN</td>\n",
       "      <td>NaN</td>\n",
       "    </tr>\n",
       "    <tr>\n",
       "      <th>7</th>\n",
       "      <td>1</td>\n",
       "      <td>2899</td>\n",
       "      <td>5.0</td>\n",
       "      <td>964982703</td>\n",
       "      <td>NaN</td>\n",
       "      <td>NaN</td>\n",
       "      <td>NaN</td>\n",
       "    </tr>\n",
       "    <tr>\n",
       "      <th>8</th>\n",
       "      <td>1</td>\n",
       "      <td>2858</td>\n",
       "      <td>5.0</td>\n",
       "      <td>964980868</td>\n",
       "      <td>NaN</td>\n",
       "      <td>NaN</td>\n",
       "      <td>NaN</td>\n",
       "    </tr>\n",
       "    <tr>\n",
       "      <th>9</th>\n",
       "      <td>1</td>\n",
       "      <td>2700</td>\n",
       "      <td>5.0</td>\n",
       "      <td>964980985</td>\n",
       "      <td>NaN</td>\n",
       "      <td>NaN</td>\n",
       "      <td>NaN</td>\n",
       "    </tr>\n",
       "    <tr>\n",
       "      <th>10</th>\n",
       "      <td>1</td>\n",
       "      <td>1517</td>\n",
       "      <td>5.0</td>\n",
       "      <td>964981107</td>\n",
       "      <td>NaN</td>\n",
       "      <td>NaN</td>\n",
       "      <td>NaN</td>\n",
       "    </tr>\n",
       "    <tr>\n",
       "      <th>11</th>\n",
       "      <td>1</td>\n",
       "      <td>1573</td>\n",
       "      <td>5.0</td>\n",
       "      <td>964982290</td>\n",
       "      <td>NaN</td>\n",
       "      <td>NaN</td>\n",
       "      <td>NaN</td>\n",
       "    </tr>\n",
       "    <tr>\n",
       "      <th>12</th>\n",
       "      <td>1</td>\n",
       "      <td>1587</td>\n",
       "      <td>5.0</td>\n",
       "      <td>964982346</td>\n",
       "      <td>NaN</td>\n",
       "      <td>NaN</td>\n",
       "      <td>NaN</td>\n",
       "    </tr>\n",
       "    <tr>\n",
       "      <th>13</th>\n",
       "      <td>1</td>\n",
       "      <td>1617</td>\n",
       "      <td>5.0</td>\n",
       "      <td>964982951</td>\n",
       "      <td>NaN</td>\n",
       "      <td>NaN</td>\n",
       "      <td>NaN</td>\n",
       "    </tr>\n",
       "    <tr>\n",
       "      <th>14</th>\n",
       "      <td>1</td>\n",
       "      <td>2761</td>\n",
       "      <td>5.0</td>\n",
       "      <td>964982703</td>\n",
       "      <td>NaN</td>\n",
       "      <td>NaN</td>\n",
       "      <td>NaN</td>\n",
       "    </tr>\n",
       "  </tbody>\n",
       "</table>\n",
       "</div>"
      ],
      "text/plain": [
       "    userId  movieId  rating  timestamp title genres year\n",
       "0        1     5060     5.0  964984002   NaN    NaN  NaN\n",
       "1        1     2872     5.0  964981680   NaN    NaN  NaN\n",
       "2        1     1291     5.0  964981909   NaN    NaN  NaN\n",
       "3        1     1298     5.0  964984086   NaN    NaN  NaN\n",
       "4        1     2948     5.0  964982191   NaN    NaN  NaN\n",
       "5        1     2947     5.0  964982176   NaN    NaN  NaN\n",
       "6        1     2944     5.0  964981872   NaN    NaN  NaN\n",
       "7        1     2899     5.0  964982703   NaN    NaN  NaN\n",
       "8        1     2858     5.0  964980868   NaN    NaN  NaN\n",
       "9        1     2700     5.0  964980985   NaN    NaN  NaN\n",
       "10       1     1517     5.0  964981107   NaN    NaN  NaN\n",
       "11       1     1573     5.0  964982290   NaN    NaN  NaN\n",
       "12       1     1587     5.0  964982346   NaN    NaN  NaN\n",
       "13       1     1617     5.0  964982951   NaN    NaN  NaN\n",
       "14       1     2761     5.0  964982703   NaN    NaN  NaN"
      ]
     },
     "execution_count": 20,
     "metadata": {},
     "output_type": "execute_result"
    }
   ],
   "source": [
    "old_SVD.head(15)"
   ]
  },
  {
   "cell_type": "code",
   "execution_count": 21,
   "id": "dfa4a782",
   "metadata": {},
   "outputs": [
    {
     "data": {
      "text/html": [
       "<div>\n",
       "<style scoped>\n",
       "    .dataframe tbody tr th:only-of-type {\n",
       "        vertical-align: middle;\n",
       "    }\n",
       "\n",
       "    .dataframe tbody tr th {\n",
       "        vertical-align: top;\n",
       "    }\n",
       "\n",
       "    .dataframe thead th {\n",
       "        text-align: right;\n",
       "    }\n",
       "</style>\n",
       "<table border=\"1\" class=\"dataframe\">\n",
       "  <thead>\n",
       "    <tr style=\"text-align: right;\">\n",
       "      <th></th>\n",
       "      <th>userId</th>\n",
       "      <th>movieId</th>\n",
       "      <th>rat_pred</th>\n",
       "      <th>title</th>\n",
       "      <th>genres</th>\n",
       "      <th>year</th>\n",
       "    </tr>\n",
       "  </thead>\n",
       "  <tbody>\n",
       "    <tr>\n",
       "      <th>0</th>\n",
       "      <td>1</td>\n",
       "      <td>2959</td>\n",
       "      <td>4.665440</td>\n",
       "      <td>NaN</td>\n",
       "      <td>NaN</td>\n",
       "      <td>NaN</td>\n",
       "    </tr>\n",
       "    <tr>\n",
       "      <th>1</th>\n",
       "      <td>1</td>\n",
       "      <td>296</td>\n",
       "      <td>4.638376</td>\n",
       "      <td>NaN</td>\n",
       "      <td>NaN</td>\n",
       "      <td>NaN</td>\n",
       "    </tr>\n",
       "    <tr>\n",
       "      <th>2</th>\n",
       "      <td>1</td>\n",
       "      <td>50</td>\n",
       "      <td>4.627324</td>\n",
       "      <td>NaN</td>\n",
       "      <td>NaN</td>\n",
       "      <td>NaN</td>\n",
       "    </tr>\n",
       "    <tr>\n",
       "      <th>3</th>\n",
       "      <td>1</td>\n",
       "      <td>1213</td>\n",
       "      <td>4.624323</td>\n",
       "      <td>NaN</td>\n",
       "      <td>NaN</td>\n",
       "      <td>NaN</td>\n",
       "    </tr>\n",
       "    <tr>\n",
       "      <th>4</th>\n",
       "      <td>1</td>\n",
       "      <td>1208</td>\n",
       "      <td>4.617198</td>\n",
       "      <td>NaN</td>\n",
       "      <td>NaN</td>\n",
       "      <td>NaN</td>\n",
       "    </tr>\n",
       "    <tr>\n",
       "      <th>5</th>\n",
       "      <td>1</td>\n",
       "      <td>260</td>\n",
       "      <td>4.615086</td>\n",
       "      <td>NaN</td>\n",
       "      <td>NaN</td>\n",
       "      <td>NaN</td>\n",
       "    </tr>\n",
       "    <tr>\n",
       "      <th>6</th>\n",
       "      <td>1</td>\n",
       "      <td>1136</td>\n",
       "      <td>4.609795</td>\n",
       "      <td>NaN</td>\n",
       "      <td>NaN</td>\n",
       "      <td>NaN</td>\n",
       "    </tr>\n",
       "    <tr>\n",
       "      <th>7</th>\n",
       "      <td>1</td>\n",
       "      <td>1197</td>\n",
       "      <td>4.609363</td>\n",
       "      <td>NaN</td>\n",
       "      <td>NaN</td>\n",
       "      <td>NaN</td>\n",
       "    </tr>\n",
       "    <tr>\n",
       "      <th>8</th>\n",
       "      <td>1</td>\n",
       "      <td>1089</td>\n",
       "      <td>4.608550</td>\n",
       "      <td>NaN</td>\n",
       "      <td>NaN</td>\n",
       "      <td>NaN</td>\n",
       "    </tr>\n",
       "    <tr>\n",
       "      <th>9</th>\n",
       "      <td>1</td>\n",
       "      <td>2571</td>\n",
       "      <td>4.598616</td>\n",
       "      <td>NaN</td>\n",
       "      <td>NaN</td>\n",
       "      <td>NaN</td>\n",
       "    </tr>\n",
       "  </tbody>\n",
       "</table>\n",
       "</div>"
      ],
      "text/plain": [
       "   userId  movieId  rat_pred title genres year\n",
       "0       1     2959  4.665440   NaN    NaN  NaN\n",
       "1       1      296  4.638376   NaN    NaN  NaN\n",
       "2       1       50  4.627324   NaN    NaN  NaN\n",
       "3       1     1213  4.624323   NaN    NaN  NaN\n",
       "4       1     1208  4.617198   NaN    NaN  NaN\n",
       "5       1      260  4.615086   NaN    NaN  NaN\n",
       "6       1     1136  4.609795   NaN    NaN  NaN\n",
       "7       1     1197  4.609363   NaN    NaN  NaN\n",
       "8       1     1089  4.608550   NaN    NaN  NaN\n",
       "9       1     2571  4.598616   NaN    NaN  NaN"
      ]
     },
     "execution_count": 21,
     "metadata": {},
     "output_type": "execute_result"
    }
   ],
   "source": [
    "pred_SVD"
   ]
  },
  {
   "cell_type": "code",
   "execution_count": 22,
   "id": "5edfb76b",
   "metadata": {},
   "outputs": [
    {
     "data": {
      "image/png": "[encoded data removed]",
      "text/plain": [
       "<Figure size 880x400 with 2 Axes>"
      ]
     },
     "metadata": {},
     "output_type": "display_data"
    }
   ],
   "source": [
    "plot_rmse(pred_SVD,\"SVD\")"
   ]
  },
  {
   "cell_type": "code",
   "execution_count": null,
   "id": "05a5bdc7",
   "metadata": {},
   "outputs": [],
   "source": []
  },
  {
   "cell_type": "code",
   "execution_count": null,
   "id": "b6b8e3a9",
   "metadata": {},
   "outputs": [],
   "source": []
  },
  {
   "cell_type": "code",
   "execution_count": null,
   "id": "7be3aff1",
   "metadata": {},
   "outputs": [],
   "source": []
  },
  {
   "cell_type": "code",
   "execution_count": null,
   "id": "181effff",
   "metadata": {},
   "outputs": [],
   "source": []
  },
  {
   "cell_type": "code",
   "execution_count": null,
   "id": "656cf953",
   "metadata": {},
   "outputs": [],
   "source": []
  },
  {
   "cell_type": "code",
   "execution_count": null,
   "id": "9e79f42d",
   "metadata": {},
   "outputs": [],
   "source": []
  },
  {
   "cell_type": "code",
   "execution_count": null,
   "id": "16b66289",
   "metadata": {},
   "outputs": [],
   "source": []
  }
 ],
 "metadata": {
  "kernelspec": {
   "display_name": "Python 3 (ipykernel)",
   "language": "python",
   "name": "python3"
  },
  "language_info": {
   "codemirror_mode": {
    "name": "ipython",
    "version": 3
   },
   "file_extension": ".py",
   "mimetype": "text/x-python",
   "name": "python",
   "nbconvert_exporter": "python",
   "pygments_lexer": "ipython3",
   "version": "3.9.16"
  }
 },
 "nbformat": 4,
 "nbformat_minor": 5
}
